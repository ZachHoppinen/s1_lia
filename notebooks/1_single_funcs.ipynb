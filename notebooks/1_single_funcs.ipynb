{
 "cells": [
  {
   "cell_type": "code",
   "execution_count": null,
   "id": "26d85d8d",
   "metadata": {},
   "outputs": [],
   "source": [
    "from s1_lia.search import find_static_opera_files\n",
    "from s1_lia.download import download_results, merge_lia_by_relative_orbit, generate_name_stem"
   ]
  },
  {
   "cell_type": "code",
   "execution_count": null,
   "id": "f716dbf7",
   "metadata": {},
   "outputs": [],
   "source": [
    "wkt = 'POLYGON((-107.5 37.6,-107.5 38.0,-108.0 38.0,-108.0 37.6,-107.5 37.6))'"
   ]
  },
  {
   "cell_type": "code",
   "execution_count": null,
   "id": "74bb5b33",
   "metadata": {},
   "outputs": [],
   "source": [
    "results = find_static_opera_files(wkt, 129)"
   ]
  },
  {
   "cell_type": "code",
   "execution_count": null,
   "id": "7bffa281",
   "metadata": {},
   "outputs": [],
   "source": [
    "data_dir = '/Users/zmhoppinen/Documents/s1_lia/local'\n",
    "successes= download_results(results, data_directory= data_dir)"
   ]
  },
  {
   "cell_type": "code",
   "execution_count": null,
   "id": "97a3e1dd",
   "metadata": {},
   "outputs": [],
   "source": [
    "files = merge_lia_by_relative_orbit(successes, data_dir, generate_name_stem(wkt))"
   ]
  },
  {
   "cell_type": "code",
   "execution_count": null,
   "id": "280890a2",
   "metadata": {},
   "outputs": [],
   "source": [
    "import xarray as xr\n",
    "import shapely\n",
    "import matplotlib.pyplot as plt\n",
    "x, y = shapely.from_wkt(wkt).exterior.xy\n",
    "xr.open_dataarray(files[0]).rio.reproject('EPSG:4326').plot()\n",
    "plt.gca().plot(x,y, color = 'k', linewidth = 4)"
   ]
  },
  {
   "cell_type": "code",
   "execution_count": null,
   "id": "2e2f1c3a",
   "metadata": {},
   "outputs": [],
   "source": [
    "from pathlib import Path\n",
    "fp = Path('/Users/zmhoppinen/Documents/s1_lia/local/OPERA_L2_RTC-S1-STATIC_T151-322414-IW1_20140403_S1A_30_v1.0_local_incidence_angle.tif')"
   ]
  },
  {
   "cell_type": "code",
   "execution_count": null,
   "id": "d8a3c314",
   "metadata": {},
   "outputs": [],
   "source": [
    "import re\n",
    "filename = fp.stem  # example filename stem\n",
    "match = re.search(r\"_T(\\d{3})\", filename)\n",
    "if not match:\n",
    "    raise ValueError(f\"Could not extract relative orbit from filename: {fp}\")\n",
    "orbit = int(match.group(1))\n",
    "orbit"
   ]
  }
 ],
 "metadata": {
  "kernelspec": {
   "display_name": "test",
   "language": "python",
   "name": "python3"
  },
  "language_info": {
   "codemirror_mode": {
    "name": "ipython",
    "version": 3
   },
   "file_extension": ".py",
   "mimetype": "text/x-python",
   "name": "python",
   "nbconvert_exporter": "python",
   "pygments_lexer": "ipython3",
   "version": "3.13.5"
  }
 },
 "nbformat": 4,
 "nbformat_minor": 5
}
