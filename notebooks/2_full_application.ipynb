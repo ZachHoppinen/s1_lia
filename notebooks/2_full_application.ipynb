{
 "cells": [
  {
   "cell_type": "code",
   "execution_count": 1,
   "id": "96dbed14",
   "metadata": {},
   "outputs": [],
   "source": [
    "import sys\n",
    "sys.path.append('../')\n",
    "\n",
    "from s1_lia.app import get_opera_lia"
   ]
  },
  {
   "cell_type": "code",
   "execution_count": 2,
   "id": "3a0ffe0b",
   "metadata": {},
   "outputs": [],
   "source": [
    "wkt = 'POLYGON((-107.5 37.6,-107.5 38.0,-108.0 38.0,-108.0 37.6,-107.5 37.6))'\n",
    "orbit = 129\n",
    "stem = 'testing'\n",
    "dir = '/Users/zmhoppinen/Documents/s1_lia/local'"
   ]
  },
  {
   "cell_type": "code",
   "execution_count": 3,
   "id": "3f11f28a",
   "metadata": {},
   "outputs": [
    {
     "name": "stderr",
     "output_type": "stream",
     "text": [
      "INFO:s1_lia.app:Starting OPERA LIA workflow\n",
      "INFO:s1_lia.search:ASF search attempt 1/20 for AOI and relative orbit [129]\n",
      "INFO:asf_search:SEARCH: Using search opts {\n",
      "    \"intersectsWith\": \"POLYGON ((-107.5000000000000000 37.6000000000000014, -107.5000000000000000 38.0000000000000000, -108.0000000000000000 38.0000000000000000, -108.0000000000000000 37.6000000000000014, -107.5000000000000000 37.6000000000000014))\",\n",
      "    \"platform\": [\n",
      "        \"SENTINEL-1A\",\n",
      "        \"SENTINEL-1C\",\n",
      "        \"SENTINEL-1B\"\n",
      "    ],\n",
      "    \"processingLevel\": [\n",
      "        \"RTC-STATIC\"\n",
      "    ],\n",
      "    \"relativeOrbit\": [\n",
      "        129\n",
      "    ],\n",
      "    \"dataset\": [\n",
      "        \"OPERA-S1\"\n",
      "    ]\n",
      "}\n",
      "INFO:asf_search:SEARCH: Using cmr endpoint: \"https://cmr.earthdata.nasa.gov/search/granules.umm_json\"\n",
      "INFO:asf_search:SUBQUERY 1: Beginning subquery with opts: {\n",
      "    \"intersectsWith\": \"POLYGON ((-107.5000000000000000 37.6000000000000014, -107.5000000000000000 38.0000000000000000, -108.0000000000000000 38.0000000000000000, -108.0000000000000000 37.6000000000000014, -107.5000000000000000 37.6000000000000014))\",\n",
      "    \"relativeOrbit\": [\n",
      "        129\n",
      "    ],\n",
      "    \"collections\": [\n",
      "        \"C1259981910-ASF\",\n",
      "        \"C2795135174-ASF\"\n",
      "    ]\n",
      "}\n",
      "INFO:asf_search:Query Time Elapsed 11.133989810943604\n",
      "INFO:asf_search:Page Processing Time 1.3113021850585938e-05\n",
      "INFO:asf_search:SUBQUERY 1 COMPLETE: results exhausted for subquery\n",
      "INFO:asf_search:SEARCH COMPLETE: results exhausted for search opts {\n",
      "    \"intersectsWith\": \"POLYGON ((-107.5000000000000000 37.6000000000000014, -107.5000000000000000 38.0000000000000000, -108.0000000000000000 38.0000000000000000, -108.0000000000000000 37.6000000000000014, -107.5000000000000000 37.6000000000000014))\",\n",
      "    \"platform\": [\n",
      "        \"SENTINEL-1A\",\n",
      "        \"SENTINEL-1C\",\n",
      "        \"SENTINEL-1B\"\n",
      "    ],\n",
      "    \"processingLevel\": [\n",
      "        \"RTC-STATIC\"\n",
      "    ],\n",
      "    \"relativeOrbit\": [\n",
      "        129\n",
      "    ],\n",
      "    \"dataset\": [\n",
      "        \"OPERA-S1\"\n",
      "    ]\n",
      "}\n",
      "INFO:s1_lia.search:Filtering 5 results for intersection with AOI polygon\n",
      "INFO:s1_lia.search:5 results intersect AOI\n",
      "INFO:s1_lia.search:Found 5 matching results\n",
      "INFO:s1_lia.app:Found 5 matching results\n",
      "Downloading files:   0%|          | 0/5 [00:00<?, ?it/s]INFO:s1_lia.download:Downloaded OPERA_L2_RTC-S1-STATIC_T129-275787-IW1_20140403_S1A_30_v1.0_local_incidence_angle.tif to /Users/zmhoppinen/Documents/s1_lia/local\n",
      "INFO:s1_lia.download:Downloaded OPERA_L2_RTC-S1-STATIC_T129-275786-IW1_20140403_S1A_30_v1.0_local_incidence_angle.tif to /Users/zmhoppinen/Documents/s1_lia/local\n",
      "INFO:s1_lia.download:Downloaded OPERA_L2_RTC-S1-STATIC_T129-275785-IW1_20140403_S1A_30_v1.0_local_incidence_angle.tif to /Users/zmhoppinen/Documents/s1_lia/local\n",
      "INFO:s1_lia.download:Downloaded OPERA_L2_RTC-S1-STATIC_T129-275784-IW1_20140403_S1A_30_v1.0_local_incidence_angle.tif to /Users/zmhoppinen/Documents/s1_lia/local\n",
      "INFO:s1_lia.download:Downloaded OPERA_L2_RTC-S1-STATIC_T129-275783-IW1_20140403_S1A_30_v1.0_local_incidence_angle.tif to /Users/zmhoppinen/Documents/s1_lia/local\n",
      "Downloading files: 100%|██████████| 5/5 [00:00<00:00, 1515.72it/s]\n",
      "INFO:s1_lia.app:Using file stem: testing\n",
      "/Users/zmhoppinen/miniforge3/envs/proposals/lib/python3.13/site-packages/xarray_sentinel/esa_safe.py:7: UserWarning: pkg_resources is deprecated as an API. See https://setuptools.pypa.io/en/latest/pkg_resources.html. The pkg_resources package is slated for removal as early as 2025-11-30. Refrain from using this package or pin to Setuptools<81.\n",
      "  import pkg_resources\n",
      "INFO:s1_lia.download:Merged 5 files for orbit 129 into /Users/zmhoppinen/Documents/s1_lia/local/testing_129_inc.tif\n",
      "INFO:s1_lia.app:Merged files saved: [PosixPath('/Users/zmhoppinen/Documents/s1_lia/local/testing_129_inc.tif')]\n"
     ]
    },
    {
     "data": {
      "text/plain": [
       "[PosixPath('/Users/zmhoppinen/Documents/s1_lia/local/testing_129_inc.tif')]"
      ]
     },
     "execution_count": 3,
     "metadata": {},
     "output_type": "execute_result"
    }
   ],
   "source": [
    "get_opera_lia(wkt, dir, orbit, stem)"
   ]
  }
 ],
 "metadata": {
  "kernelspec": {
   "display_name": "proposals",
   "language": "python",
   "name": "python3"
  },
  "language_info": {
   "codemirror_mode": {
    "name": "ipython",
    "version": 3
   },
   "file_extension": ".py",
   "mimetype": "text/x-python",
   "name": "python",
   "nbconvert_exporter": "python",
   "pygments_lexer": "ipython3",
   "version": "3.13.5"
  }
 },
 "nbformat": 4,
 "nbformat_minor": 5
}
