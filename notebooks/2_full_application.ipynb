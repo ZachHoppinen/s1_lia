{
 "cells": [
  {
   "cell_type": "code",
   "execution_count": null,
   "id": "96dbed14",
   "metadata": {},
   "outputs": [],
   "source": [
    "import sys\n",
    "sys.path.append('../')\n",
    "\n",
    "from s1_lia.app import get_opera_lia"
   ]
  },
  {
   "cell_type": "code",
   "execution_count": null,
   "id": "3a0ffe0b",
   "metadata": {},
   "outputs": [],
   "source": [
    "wkt = 'POLYGON((-107.5 37.6,-107.5 38.0,-108.0 38.0,-108.0 37.6,-107.5 37.6))'\n",
    "orbit = 129\n",
    "stem = 'testing'\n",
    "dir = '/Users/zmhoppinen/Documents/s1_lia/local'"
   ]
  },
  {
   "cell_type": "code",
   "execution_count": null,
   "id": "3f11f28a",
   "metadata": {},
   "outputs": [],
   "source": [
    "get_opera_lia(wkt, dir, orbit, stem)"
   ]
  },
  {
   "cell_type": "code",
   "execution_count": null,
   "id": "4d9a087d",
   "metadata": {},
   "outputs": [],
   "source": [
    "import s1_lia\n",
    "\n",
    "# Define AOI as WKT polygon string\n",
    "aoi_wkt = 'POLYGON((-107.5 37.6,-107.5 38.0,-108.0 38.0,-108.0 37.6,-107.5 37.6))'\n",
    "\n",
    "# Define directory to store downloaded and merged files\n",
    "data_dir = \"./data\"\n",
    "\n",
    "# Optionally if you know what orbit you are interested in:\n",
    "orbit = 129\n",
    "\n",
    "# Run full workflow: search, download, merge\n",
    "merged_files = s1_lia.get_opera_lia(aoi_wkt, data_dir)\n",
    "\n",
    "print(\"Merged incidence angle files:\")\n",
    "for f in merged_files:\n",
    "    print(f)"
   ]
  },
  {
   "cell_type": "code",
   "execution_count": null,
   "id": "2831f4a5",
   "metadata": {},
   "outputs": [],
   "source": [
    "import xarray as xr\n",
    "import shapely\n",
    "import matplotlib.pyplot as plt\n",
    "xr.open_dataarray(merged_files[0]).rio.reproject('EPSG:4326').plot()\n",
    "x, y = shapely.from_wkt(aoi_wkt).exterior.xy\n",
    "plt.gca().plot(x,y, color = 'k', linewidth = 4)"
   ]
  }
 ],
 "metadata": {
  "kernelspec": {
   "display_name": "test",
   "language": "python",
   "name": "python3"
  },
  "language_info": {
   "codemirror_mode": {
    "name": "ipython",
    "version": 3
   },
   "file_extension": ".py",
   "mimetype": "text/x-python",
   "name": "python",
   "nbconvert_exporter": "python",
   "pygments_lexer": "ipython3",
   "version": "3.13.5"
  }
 },
 "nbformat": 4,
 "nbformat_minor": 5
}
